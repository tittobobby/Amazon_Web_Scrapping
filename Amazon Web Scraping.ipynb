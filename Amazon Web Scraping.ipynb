{
 "cells": [
  {
   "cell_type": "markdown",
   "id": "62cc29c7",
   "metadata": {},
   "source": [
    "### Project aims to scrape the prize of Redmi Note 11 from Amazon.in website"
   ]
  },
  {
   "cell_type": "markdown",
   "id": "f9383745",
   "metadata": {},
   "source": [
    "### Importing Libraries"
   ]
  },
  {
   "cell_type": "code",
   "execution_count": 1,
   "id": "41ba2202",
   "metadata": {},
   "outputs": [],
   "source": [
    "from bs4 import BeautifulSoup\n",
    "import requests\n",
    "import smtplib\n",
    "import time\n",
    "import datetime"
   ]
  },
  {
   "cell_type": "code",
   "execution_count": 66,
   "id": "528b08b5",
   "metadata": {},
   "outputs": [
    {
     "name": "stdout",
     "output_type": "stream",
     "text": [
      "\n",
      "             ₹13,499.00\n",
      "            \n"
     ]
    }
   ],
   "source": [
    "# Parsing the data from Amazon websites\n",
    "\n",
    "url = 'https://www.amazon.in/gp/product/B09QS9CWLV/ref=s9_acss_bw_cg_Budget_6a1_w?pf_rd_m=A1K21FY43GMZF8&pf_rd_s=merchandised-search-7&pf_rd_r=TBD15D57H8XPWMBC049A&pf_rd_t=101&pf_rd_p=854f427d-8d08-4cdf-a7c3-190fea343a08&pf_rd_i=1389401031&th=1'\n",
    "\n",
    "headers = {\"User-Agent\": \"Mozilla/5.0 (Windows NT 10.0; Win64; x64) AppleWebKit/537.36 (KHTML, like Gecko) Chrome/108.0.0.0 Safari/537.36\"}\n",
    "\n",
    "page = requests.get(url, headers=headers)\n",
    "\n",
    "soup1 = BeautifulSoup(page.content, \"html.parser\")\n",
    "soup2 = BeautifulSoup(soup1.prettify(), \"html.parser\")\n",
    "\n",
    "title = soup2.find(id='productTitle').get_text()\n",
    "price_parent= soup2.find('span','a-price aok-align-center reinventPricePriceToPayMargin priceToPay')\n",
    "price = price_parent.find('span','a-offscreen').text\n",
    "print(price)\n",
    "\n",
    "\n",
    "#print(title)\n"
   ]
  },
  {
   "cell_type": "markdown",
   "id": "594c2609",
   "metadata": {},
   "source": [
    "### Cleaning the data"
   ]
  },
  {
   "cell_type": "code",
   "execution_count": 67,
   "id": "ec2db4da",
   "metadata": {},
   "outputs": [],
   "source": [
    "price = price.strip()[1:]\n",
    "title = title.strip()"
   ]
  },
  {
   "cell_type": "code",
   "execution_count": 68,
   "id": "db7ce0d7",
   "metadata": {},
   "outputs": [
    {
     "name": "stdout",
     "output_type": "stream",
     "text": [
      "Redmi Note 11 (Horizon Blue, 6GB RAM, 64GB Storage)|90Hz FHD+ AMOLED Display | Qualcomm® Snapdragon™ 680-6nm | 33W Charger Included\n",
      "13,499.00\n"
     ]
    },
    {
     "data": {
      "text/plain": [
       "str"
      ]
     },
     "execution_count": 68,
     "metadata": {},
     "output_type": "execute_result"
    }
   ],
   "source": [
    "print(title)\n",
    "print(price)\n",
    "type(price)"
   ]
  },
  {
   "cell_type": "markdown",
   "id": "3ff8b090",
   "metadata": {},
   "source": [
    "### Creating a time stamp so that we can track the data whenever we need"
   ]
  },
  {
   "cell_type": "code",
   "execution_count": 74,
   "id": "67b73f15",
   "metadata": {},
   "outputs": [
    {
     "name": "stdout",
     "output_type": "stream",
     "text": [
      "2022-12-10\n"
     ]
    }
   ],
   "source": [
    "import datetime\n",
    "\n",
    "date = datetime.date.today()\n",
    "print(today)"
   ]
  },
  {
   "cell_type": "markdown",
   "id": "78905428",
   "metadata": {},
   "source": [
    "### Creating CSV file : write headers and appending the data into the file \"AmazonWebDataSet.csv\""
   ]
  },
  {
   "cell_type": "code",
   "execution_count": 75,
   "id": "f43d85d0",
   "metadata": {},
   "outputs": [],
   "source": [
    "import csv\n",
    "\n",
    "header = ['Title', 'Price', 'Date']\n",
    "data = [title, price, date]\n",
    "\n",
    "with open('AmazonWebDataSet.csv', 'w', newline='', encoding='UTF8') as f:\n",
    "    writer = csv.writer(f)\n",
    "    writer.writerow(header)\n",
    "    writer.writerow(data)    "
   ]
  },
  {
   "cell_type": "code",
   "execution_count": 76,
   "id": "e9688a6f",
   "metadata": {},
   "outputs": [
    {
     "name": "stdout",
     "output_type": "stream",
     "text": [
      "                                               Title      Price        Date\n",
      "0  Redmi Note 11 (Horizon Blue, 6GB RAM, 64GB Sto...  13,499.00  2022-12-10\n"
     ]
    }
   ],
   "source": [
    "import pandas as pd\n",
    "\n",
    "df = pd.read_csv(r'C:\\Users\\user\\Desktop\\Python\\Projects\\Web Scrapping\\AmazonWebDataSet.csv')\n",
    "\n",
    "print(df)"
   ]
  },
  {
   "cell_type": "code",
   "execution_count": 73,
   "id": "60a3f839",
   "metadata": {},
   "outputs": [
    {
     "name": "stdout",
     "output_type": "stream",
     "text": [
      "2022-12-10\n"
     ]
    }
   ],
   "source": [
    "import datetime\n",
    "\n",
    "today = datetime.date.today()\n",
    "print(today)"
   ]
  },
  {
   "cell_type": "markdown",
   "id": "3b7d7b14",
   "metadata": {},
   "source": [
    "### Function to check price of Redmi Note 11 on Amazon.in"
   ]
  },
  {
   "cell_type": "code",
   "execution_count": 1,
   "id": "afb27955",
   "metadata": {},
   "outputs": [],
   "source": [
    "from bs4 import BeautifulSoup\n",
    "import requests\n",
    "import smtplib\n",
    "import time\n",
    "import datetime\n",
    "\n",
    "def check_price():\n",
    "    url = 'https://www.amazon.in/gp/product/B09QS9CWLV/ref=s9_acss_bw_cg_Budget_6a1_w?pf_rd_m=A1K21FY43GMZF8&pf_rd_s=merchandised-search-7&pf_rd_r=TBD15D57H8XPWMBC049A&pf_rd_t=101&pf_rd_p=854f427d-8d08-4cdf-a7c3-190fea343a08&pf_rd_i=1389401031&th=1'\n",
    "\n",
    "    headers = {\"User-Agent\": \"Mozilla/5.0 (Windows NT 10.0; Win64; x64) AppleWebKit/537.36 (KHTML, like Gecko) Chrome/108.0.0.0 Safari/537.36\"}\n",
    "\n",
    "    page = requests.get(url, headers=headers)\n",
    "\n",
    "    soup1 = BeautifulSoup(page.content, \"html.parser\")\n",
    "    soup2 = BeautifulSoup(soup1.prettify(), \"html.parser\")\n",
    "\n",
    "    title = soup2.find(id='productTitle').get_text()\n",
    "    price_parent= soup2.find('span','a-price aok-align-center reinventPricePriceToPayMargin priceToPay')\n",
    "    price = price_parent.find('span','a-offscreen').text\n",
    "    price = price.strip()[1:]\n",
    "    title = title.strip()\n",
    "    import datetime\n",
    "\n",
    "    date = datetime.date.today()\n",
    "    \n",
    "    import csv\n",
    "\n",
    "    header = ['Title', 'Price', 'Date']\n",
    "    data = [title, price, date]\n",
    "\n",
    "    with open('AmazonWebDataSet.csv', 'a+', newline='', encoding='UTF8') as f:\n",
    "        writer = csv.writer(f)\n",
    "        writer.writerow(data)\n",
    "    "
   ]
  },
  {
   "cell_type": "markdown",
   "id": "1f9e50e9",
   "metadata": {},
   "source": [
    "### Runs check_price after a set time (86400 sec = 24 hours) and inputs data into your CSV"
   ]
  },
  {
   "cell_type": "code",
   "execution_count": null,
   "id": "cf834d5e",
   "metadata": {},
   "outputs": [],
   "source": [
    "while(True):\n",
    "    check_price()\n",
    "    time.sleep(86400)"
   ]
  },
  {
   "cell_type": "code",
   "execution_count": null,
   "id": "598ff8b5",
   "metadata": {},
   "outputs": [],
   "source": [
    "import pandas as pd\n",
    "\n",
    "df = pd.read_csv(r'C:\\Users\\user\\Desktop\\Python\\Projects\\Web Scrapping\\AmazonWebDataSet.csv')\n",
    "\n",
    "print(df)"
   ]
  },
  {
   "cell_type": "code",
   "execution_count": null,
   "id": "36a8ad6a",
   "metadata": {},
   "outputs": [],
   "source": []
  }
 ],
 "metadata": {
  "kernelspec": {
   "display_name": "Python 3 (ipykernel)",
   "language": "python",
   "name": "python3"
  },
  "language_info": {
   "codemirror_mode": {
    "name": "ipython",
    "version": 3
   },
   "file_extension": ".py",
   "mimetype": "text/x-python",
   "name": "python",
   "nbconvert_exporter": "python",
   "pygments_lexer": "ipython3",
   "version": "3.9.12"
  }
 },
 "nbformat": 4,
 "nbformat_minor": 5
}
